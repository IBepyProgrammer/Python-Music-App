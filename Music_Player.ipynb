{
 "cells": [
  {
   "cell_type": "markdown",
   "id": "f165bc16",
   "metadata": {},
   "source": [
    "### We will be using the Pygame library to load, play and stop an audio file.\n",
    "### To begin we will first use pip to install the pygame library."
   ]
  },
  {
   "cell_type": "code",
   "execution_count": 1,
   "id": "c6307b8b",
   "metadata": {},
   "outputs": [
    {
     "name": "stdout",
     "output_type": "stream",
     "text": [
      "Looking in indexes: https://pypi.org/simple, https://pypi.ngc.nvidia.com\n",
      "Requirement already satisfied: pygame in d:\\projects\\music_player\\music_player\\lib\\site-packages (2.5.2)\n"
     ]
    }
   ],
   "source": [
    "!pip install pygame"
   ]
  },
  {
   "cell_type": "markdown",
   "id": "6a05034f",
   "metadata": {},
   "source": [
    "### For this example, we will be using the mixer module from the pygame library. We will therefore import mixer from pygame.\n",
    "* Mixer allows us to play/pause, load and stop audio files in python."
   ]
  },
  {
   "cell_type": "code",
   "execution_count": 2,
   "id": "fcdedb74",
   "metadata": {},
   "outputs": [
    {
     "name": "stdout",
     "output_type": "stream",
     "text": [
      "pygame 2.5.2 (SDL 2.28.3, Python 3.9.13)\n",
      "Hello from the pygame community. https://www.pygame.org/contribute.html\n"
     ]
    }
   ],
   "source": [
    "from pygame import mixer\n",
    "\n",
    "#In order to use the mixer module we first initialize it using init()\n",
    "mixer.init()"
   ]
  },
  {
   "cell_type": "markdown",
   "id": "34b85d43",
   "metadata": {},
   "source": [
    "### We can then proceed to loading a sample file and playing the file. Note the audio file is played in the background."
   ]
  },
  {
   "cell_type": "code",
   "execution_count": 3,
   "id": "b62bba10",
   "metadata": {},
   "outputs": [],
   "source": [
    "# Let's load a sample audio file from our working directory\n",
    "mixer.music.load(\"sample.wav\")\n",
    "# Note we can use the \"music.unload\" to unload the sample file in order to free up resources.\n",
    "mixer.music.play()"
   ]
  },
  {
   "cell_type": "markdown",
   "id": "9e80245b",
   "metadata": {},
   "source": [
    "### To stop the audio file we can run \"mixer.music.stop\""
   ]
  },
  {
   "cell_type": "code",
   "execution_count": 5,
   "id": "e58014a2",
   "metadata": {},
   "outputs": [],
   "source": [
    "mixer.music.stop()"
   ]
  }
 ],
 "metadata": {
  "kernelspec": {
   "display_name": "Python 3 (ipykernel)",
   "language": "python",
   "name": "python3"
  },
  "language_info": {
   "codemirror_mode": {
    "name": "ipython",
    "version": 3
   },
   "file_extension": ".py",
   "mimetype": "text/x-python",
   "name": "python",
   "nbconvert_exporter": "python",
   "pygments_lexer": "ipython3",
   "version": "3.9.13"
  }
 },
 "nbformat": 4,
 "nbformat_minor": 5
}
